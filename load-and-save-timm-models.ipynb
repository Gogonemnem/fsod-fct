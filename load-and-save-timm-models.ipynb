{
 "cells": [
  {
   "cell_type": "code",
   "execution_count": 1,
   "metadata": {},
   "outputs": [],
   "source": [
    "model_name = \"pvt_v2_b2_li\"\n",
    "# model_name =\"pvt_v2_b1.pth\"\n",
    "# model_name =\"pvt_v2_b0.pth\"\n",
    "# model_name =\"pvt_v2_b2.pth\"\n",
    "# model_name =\"pvt_v2_b3.pth\""
   ]
  },
  {
   "cell_type": "code",
   "execution_count": 2,
   "metadata": {},
   "outputs": [
    {
     "name": "stderr",
     "output_type": "stream",
     "text": [
      "/home/gonem/.conda/envs/fct/lib/python3.11/site-packages/tqdm/auto.py:21: TqdmWarning: IProgress not found. Please update jupyter and ipywidgets. See https://ipywidgets.readthedocs.io/en/stable/user_install.html\n",
      "  from .autonotebook import tqdm as notebook_tqdm\n"
     ]
    }
   ],
   "source": [
    "import timm, torch\n",
    "model_timm = timm.create_model(model_name, pretrained=True)\n"
   ]
  },
  {
   "cell_type": "code",
   "execution_count": 3,
   "metadata": {},
   "outputs": [
    {
     "data": {
      "text/plain": [
       "dict_keys(['backbone.bottom_up.patch_embed.proj.weight', 'backbone.bottom_up.patch_embed.proj.bias', 'backbone.bottom_up.patch_embed.norm.weight', 'backbone.bottom_up.patch_embed.norm.bias', 'backbone.bottom_up.stages.0.blocks.0.norm1.weight', 'backbone.bottom_up.stages.0.blocks.0.norm1.bias', 'backbone.bottom_up.stages.0.blocks.0.attn.q.weight', 'backbone.bottom_up.stages.0.blocks.0.attn.q.bias', 'backbone.bottom_up.stages.0.blocks.0.attn.kv.weight', 'backbone.bottom_up.stages.0.blocks.0.attn.kv.bias', 'backbone.bottom_up.stages.0.blocks.0.attn.proj.weight', 'backbone.bottom_up.stages.0.blocks.0.attn.proj.bias', 'backbone.bottom_up.stages.0.blocks.0.attn.sr.weight', 'backbone.bottom_up.stages.0.blocks.0.attn.sr.bias', 'backbone.bottom_up.stages.0.blocks.0.attn.norm.weight', 'backbone.bottom_up.stages.0.blocks.0.attn.norm.bias', 'backbone.bottom_up.stages.0.blocks.0.norm2.weight', 'backbone.bottom_up.stages.0.blocks.0.norm2.bias', 'backbone.bottom_up.stages.0.blocks.0.mlp.fc1.weight', 'backbone.bottom_up.stages.0.blocks.0.mlp.fc1.bias', 'backbone.bottom_up.stages.0.blocks.0.mlp.dwconv.weight', 'backbone.bottom_up.stages.0.blocks.0.mlp.dwconv.bias', 'backbone.bottom_up.stages.0.blocks.0.mlp.fc2.weight', 'backbone.bottom_up.stages.0.blocks.0.mlp.fc2.bias', 'backbone.bottom_up.stages.0.blocks.1.norm1.weight', 'backbone.bottom_up.stages.0.blocks.1.norm1.bias', 'backbone.bottom_up.stages.0.blocks.1.attn.q.weight', 'backbone.bottom_up.stages.0.blocks.1.attn.q.bias', 'backbone.bottom_up.stages.0.blocks.1.attn.kv.weight', 'backbone.bottom_up.stages.0.blocks.1.attn.kv.bias', 'backbone.bottom_up.stages.0.blocks.1.attn.proj.weight', 'backbone.bottom_up.stages.0.blocks.1.attn.proj.bias', 'backbone.bottom_up.stages.0.blocks.1.attn.sr.weight', 'backbone.bottom_up.stages.0.blocks.1.attn.sr.bias', 'backbone.bottom_up.stages.0.blocks.1.attn.norm.weight', 'backbone.bottom_up.stages.0.blocks.1.attn.norm.bias', 'backbone.bottom_up.stages.0.blocks.1.norm2.weight', 'backbone.bottom_up.stages.0.blocks.1.norm2.bias', 'backbone.bottom_up.stages.0.blocks.1.mlp.fc1.weight', 'backbone.bottom_up.stages.0.blocks.1.mlp.fc1.bias', 'backbone.bottom_up.stages.0.blocks.1.mlp.dwconv.weight', 'backbone.bottom_up.stages.0.blocks.1.mlp.dwconv.bias', 'backbone.bottom_up.stages.0.blocks.1.mlp.fc2.weight', 'backbone.bottom_up.stages.0.blocks.1.mlp.fc2.bias', 'backbone.bottom_up.stages.0.blocks.2.norm1.weight', 'backbone.bottom_up.stages.0.blocks.2.norm1.bias', 'backbone.bottom_up.stages.0.blocks.2.attn.q.weight', 'backbone.bottom_up.stages.0.blocks.2.attn.q.bias', 'backbone.bottom_up.stages.0.blocks.2.attn.kv.weight', 'backbone.bottom_up.stages.0.blocks.2.attn.kv.bias', 'backbone.bottom_up.stages.0.blocks.2.attn.proj.weight', 'backbone.bottom_up.stages.0.blocks.2.attn.proj.bias', 'backbone.bottom_up.stages.0.blocks.2.attn.sr.weight', 'backbone.bottom_up.stages.0.blocks.2.attn.sr.bias', 'backbone.bottom_up.stages.0.blocks.2.attn.norm.weight', 'backbone.bottom_up.stages.0.blocks.2.attn.norm.bias', 'backbone.bottom_up.stages.0.blocks.2.norm2.weight', 'backbone.bottom_up.stages.0.blocks.2.norm2.bias', 'backbone.bottom_up.stages.0.blocks.2.mlp.fc1.weight', 'backbone.bottom_up.stages.0.blocks.2.mlp.fc1.bias', 'backbone.bottom_up.stages.0.blocks.2.mlp.dwconv.weight', 'backbone.bottom_up.stages.0.blocks.2.mlp.dwconv.bias', 'backbone.bottom_up.stages.0.blocks.2.mlp.fc2.weight', 'backbone.bottom_up.stages.0.blocks.2.mlp.fc2.bias', 'backbone.bottom_up.stages.0.norm.weight', 'backbone.bottom_up.stages.0.norm.bias', 'backbone.bottom_up.stages.1.downsample.proj.weight', 'backbone.bottom_up.stages.1.downsample.proj.bias', 'backbone.bottom_up.stages.1.downsample.norm.weight', 'backbone.bottom_up.stages.1.downsample.norm.bias', 'backbone.bottom_up.stages.1.blocks.0.norm1.weight', 'backbone.bottom_up.stages.1.blocks.0.norm1.bias', 'backbone.bottom_up.stages.1.blocks.0.attn.q.weight', 'backbone.bottom_up.stages.1.blocks.0.attn.q.bias', 'backbone.bottom_up.stages.1.blocks.0.attn.kv.weight', 'backbone.bottom_up.stages.1.blocks.0.attn.kv.bias', 'backbone.bottom_up.stages.1.blocks.0.attn.proj.weight', 'backbone.bottom_up.stages.1.blocks.0.attn.proj.bias', 'backbone.bottom_up.stages.1.blocks.0.attn.sr.weight', 'backbone.bottom_up.stages.1.blocks.0.attn.sr.bias', 'backbone.bottom_up.stages.1.blocks.0.attn.norm.weight', 'backbone.bottom_up.stages.1.blocks.0.attn.norm.bias', 'backbone.bottom_up.stages.1.blocks.0.norm2.weight', 'backbone.bottom_up.stages.1.blocks.0.norm2.bias', 'backbone.bottom_up.stages.1.blocks.0.mlp.fc1.weight', 'backbone.bottom_up.stages.1.blocks.0.mlp.fc1.bias', 'backbone.bottom_up.stages.1.blocks.0.mlp.dwconv.weight', 'backbone.bottom_up.stages.1.blocks.0.mlp.dwconv.bias', 'backbone.bottom_up.stages.1.blocks.0.mlp.fc2.weight', 'backbone.bottom_up.stages.1.blocks.0.mlp.fc2.bias', 'backbone.bottom_up.stages.1.blocks.1.norm1.weight', 'backbone.bottom_up.stages.1.blocks.1.norm1.bias', 'backbone.bottom_up.stages.1.blocks.1.attn.q.weight', 'backbone.bottom_up.stages.1.blocks.1.attn.q.bias', 'backbone.bottom_up.stages.1.blocks.1.attn.kv.weight', 'backbone.bottom_up.stages.1.blocks.1.attn.kv.bias', 'backbone.bottom_up.stages.1.blocks.1.attn.proj.weight', 'backbone.bottom_up.stages.1.blocks.1.attn.proj.bias', 'backbone.bottom_up.stages.1.blocks.1.attn.sr.weight', 'backbone.bottom_up.stages.1.blocks.1.attn.sr.bias', 'backbone.bottom_up.stages.1.blocks.1.attn.norm.weight', 'backbone.bottom_up.stages.1.blocks.1.attn.norm.bias', 'backbone.bottom_up.stages.1.blocks.1.norm2.weight', 'backbone.bottom_up.stages.1.blocks.1.norm2.bias', 'backbone.bottom_up.stages.1.blocks.1.mlp.fc1.weight', 'backbone.bottom_up.stages.1.blocks.1.mlp.fc1.bias', 'backbone.bottom_up.stages.1.blocks.1.mlp.dwconv.weight', 'backbone.bottom_up.stages.1.blocks.1.mlp.dwconv.bias', 'backbone.bottom_up.stages.1.blocks.1.mlp.fc2.weight', 'backbone.bottom_up.stages.1.blocks.1.mlp.fc2.bias', 'backbone.bottom_up.stages.1.blocks.2.norm1.weight', 'backbone.bottom_up.stages.1.blocks.2.norm1.bias', 'backbone.bottom_up.stages.1.blocks.2.attn.q.weight', 'backbone.bottom_up.stages.1.blocks.2.attn.q.bias', 'backbone.bottom_up.stages.1.blocks.2.attn.kv.weight', 'backbone.bottom_up.stages.1.blocks.2.attn.kv.bias', 'backbone.bottom_up.stages.1.blocks.2.attn.proj.weight', 'backbone.bottom_up.stages.1.blocks.2.attn.proj.bias', 'backbone.bottom_up.stages.1.blocks.2.attn.sr.weight', 'backbone.bottom_up.stages.1.blocks.2.attn.sr.bias', 'backbone.bottom_up.stages.1.blocks.2.attn.norm.weight', 'backbone.bottom_up.stages.1.blocks.2.attn.norm.bias', 'backbone.bottom_up.stages.1.blocks.2.norm2.weight', 'backbone.bottom_up.stages.1.blocks.2.norm2.bias', 'backbone.bottom_up.stages.1.blocks.2.mlp.fc1.weight', 'backbone.bottom_up.stages.1.blocks.2.mlp.fc1.bias', 'backbone.bottom_up.stages.1.blocks.2.mlp.dwconv.weight', 'backbone.bottom_up.stages.1.blocks.2.mlp.dwconv.bias', 'backbone.bottom_up.stages.1.blocks.2.mlp.fc2.weight', 'backbone.bottom_up.stages.1.blocks.2.mlp.fc2.bias', 'backbone.bottom_up.stages.1.blocks.3.norm1.weight', 'backbone.bottom_up.stages.1.blocks.3.norm1.bias', 'backbone.bottom_up.stages.1.blocks.3.attn.q.weight', 'backbone.bottom_up.stages.1.blocks.3.attn.q.bias', 'backbone.bottom_up.stages.1.blocks.3.attn.kv.weight', 'backbone.bottom_up.stages.1.blocks.3.attn.kv.bias', 'backbone.bottom_up.stages.1.blocks.3.attn.proj.weight', 'backbone.bottom_up.stages.1.blocks.3.attn.proj.bias', 'backbone.bottom_up.stages.1.blocks.3.attn.sr.weight', 'backbone.bottom_up.stages.1.blocks.3.attn.sr.bias', 'backbone.bottom_up.stages.1.blocks.3.attn.norm.weight', 'backbone.bottom_up.stages.1.blocks.3.attn.norm.bias', 'backbone.bottom_up.stages.1.blocks.3.norm2.weight', 'backbone.bottom_up.stages.1.blocks.3.norm2.bias', 'backbone.bottom_up.stages.1.blocks.3.mlp.fc1.weight', 'backbone.bottom_up.stages.1.blocks.3.mlp.fc1.bias', 'backbone.bottom_up.stages.1.blocks.3.mlp.dwconv.weight', 'backbone.bottom_up.stages.1.blocks.3.mlp.dwconv.bias', 'backbone.bottom_up.stages.1.blocks.3.mlp.fc2.weight', 'backbone.bottom_up.stages.1.blocks.3.mlp.fc2.bias', 'backbone.bottom_up.stages.1.norm.weight', 'backbone.bottom_up.stages.1.norm.bias', 'backbone.bottom_up.stages.2.downsample.proj.weight', 'backbone.bottom_up.stages.2.downsample.proj.bias', 'backbone.bottom_up.stages.2.downsample.norm.weight', 'backbone.bottom_up.stages.2.downsample.norm.bias', 'backbone.bottom_up.stages.2.blocks.0.norm1.weight', 'backbone.bottom_up.stages.2.blocks.0.norm1.bias', 'backbone.bottom_up.stages.2.blocks.0.attn.q.weight', 'backbone.bottom_up.stages.2.blocks.0.attn.q.bias', 'backbone.bottom_up.stages.2.blocks.0.attn.kv.weight', 'backbone.bottom_up.stages.2.blocks.0.attn.kv.bias', 'backbone.bottom_up.stages.2.blocks.0.attn.proj.weight', 'backbone.bottom_up.stages.2.blocks.0.attn.proj.bias', 'backbone.bottom_up.stages.2.blocks.0.attn.sr.weight', 'backbone.bottom_up.stages.2.blocks.0.attn.sr.bias', 'backbone.bottom_up.stages.2.blocks.0.attn.norm.weight', 'backbone.bottom_up.stages.2.blocks.0.attn.norm.bias', 'backbone.bottom_up.stages.2.blocks.0.norm2.weight', 'backbone.bottom_up.stages.2.blocks.0.norm2.bias', 'backbone.bottom_up.stages.2.blocks.0.mlp.fc1.weight', 'backbone.bottom_up.stages.2.blocks.0.mlp.fc1.bias', 'backbone.bottom_up.stages.2.blocks.0.mlp.dwconv.weight', 'backbone.bottom_up.stages.2.blocks.0.mlp.dwconv.bias', 'backbone.bottom_up.stages.2.blocks.0.mlp.fc2.weight', 'backbone.bottom_up.stages.2.blocks.0.mlp.fc2.bias', 'backbone.bottom_up.stages.2.blocks.1.norm1.weight', 'backbone.bottom_up.stages.2.blocks.1.norm1.bias', 'backbone.bottom_up.stages.2.blocks.1.attn.q.weight', 'backbone.bottom_up.stages.2.blocks.1.attn.q.bias', 'backbone.bottom_up.stages.2.blocks.1.attn.kv.weight', 'backbone.bottom_up.stages.2.blocks.1.attn.kv.bias', 'backbone.bottom_up.stages.2.blocks.1.attn.proj.weight', 'backbone.bottom_up.stages.2.blocks.1.attn.proj.bias', 'backbone.bottom_up.stages.2.blocks.1.attn.sr.weight', 'backbone.bottom_up.stages.2.blocks.1.attn.sr.bias', 'backbone.bottom_up.stages.2.blocks.1.attn.norm.weight', 'backbone.bottom_up.stages.2.blocks.1.attn.norm.bias', 'backbone.bottom_up.stages.2.blocks.1.norm2.weight', 'backbone.bottom_up.stages.2.blocks.1.norm2.bias', 'backbone.bottom_up.stages.2.blocks.1.mlp.fc1.weight', 'backbone.bottom_up.stages.2.blocks.1.mlp.fc1.bias', 'backbone.bottom_up.stages.2.blocks.1.mlp.dwconv.weight', 'backbone.bottom_up.stages.2.blocks.1.mlp.dwconv.bias', 'backbone.bottom_up.stages.2.blocks.1.mlp.fc2.weight', 'backbone.bottom_up.stages.2.blocks.1.mlp.fc2.bias', 'backbone.bottom_up.stages.2.blocks.2.norm1.weight', 'backbone.bottom_up.stages.2.blocks.2.norm1.bias', 'backbone.bottom_up.stages.2.blocks.2.attn.q.weight', 'backbone.bottom_up.stages.2.blocks.2.attn.q.bias', 'backbone.bottom_up.stages.2.blocks.2.attn.kv.weight', 'backbone.bottom_up.stages.2.blocks.2.attn.kv.bias', 'backbone.bottom_up.stages.2.blocks.2.attn.proj.weight', 'backbone.bottom_up.stages.2.blocks.2.attn.proj.bias', 'backbone.bottom_up.stages.2.blocks.2.attn.sr.weight', 'backbone.bottom_up.stages.2.blocks.2.attn.sr.bias', 'backbone.bottom_up.stages.2.blocks.2.attn.norm.weight', 'backbone.bottom_up.stages.2.blocks.2.attn.norm.bias', 'backbone.bottom_up.stages.2.blocks.2.norm2.weight', 'backbone.bottom_up.stages.2.blocks.2.norm2.bias', 'backbone.bottom_up.stages.2.blocks.2.mlp.fc1.weight', 'backbone.bottom_up.stages.2.blocks.2.mlp.fc1.bias', 'backbone.bottom_up.stages.2.blocks.2.mlp.dwconv.weight', 'backbone.bottom_up.stages.2.blocks.2.mlp.dwconv.bias', 'backbone.bottom_up.stages.2.blocks.2.mlp.fc2.weight', 'backbone.bottom_up.stages.2.blocks.2.mlp.fc2.bias', 'backbone.bottom_up.stages.2.blocks.3.norm1.weight', 'backbone.bottom_up.stages.2.blocks.3.norm1.bias', 'backbone.bottom_up.stages.2.blocks.3.attn.q.weight', 'backbone.bottom_up.stages.2.blocks.3.attn.q.bias', 'backbone.bottom_up.stages.2.blocks.3.attn.kv.weight', 'backbone.bottom_up.stages.2.blocks.3.attn.kv.bias', 'backbone.bottom_up.stages.2.blocks.3.attn.proj.weight', 'backbone.bottom_up.stages.2.blocks.3.attn.proj.bias', 'backbone.bottom_up.stages.2.blocks.3.attn.sr.weight', 'backbone.bottom_up.stages.2.blocks.3.attn.sr.bias', 'backbone.bottom_up.stages.2.blocks.3.attn.norm.weight', 'backbone.bottom_up.stages.2.blocks.3.attn.norm.bias', 'backbone.bottom_up.stages.2.blocks.3.norm2.weight', 'backbone.bottom_up.stages.2.blocks.3.norm2.bias', 'backbone.bottom_up.stages.2.blocks.3.mlp.fc1.weight', 'backbone.bottom_up.stages.2.blocks.3.mlp.fc1.bias', 'backbone.bottom_up.stages.2.blocks.3.mlp.dwconv.weight', 'backbone.bottom_up.stages.2.blocks.3.mlp.dwconv.bias', 'backbone.bottom_up.stages.2.blocks.3.mlp.fc2.weight', 'backbone.bottom_up.stages.2.blocks.3.mlp.fc2.bias', 'backbone.bottom_up.stages.2.blocks.4.norm1.weight', 'backbone.bottom_up.stages.2.blocks.4.norm1.bias', 'backbone.bottom_up.stages.2.blocks.4.attn.q.weight', 'backbone.bottom_up.stages.2.blocks.4.attn.q.bias', 'backbone.bottom_up.stages.2.blocks.4.attn.kv.weight', 'backbone.bottom_up.stages.2.blocks.4.attn.kv.bias', 'backbone.bottom_up.stages.2.blocks.4.attn.proj.weight', 'backbone.bottom_up.stages.2.blocks.4.attn.proj.bias', 'backbone.bottom_up.stages.2.blocks.4.attn.sr.weight', 'backbone.bottom_up.stages.2.blocks.4.attn.sr.bias', 'backbone.bottom_up.stages.2.blocks.4.attn.norm.weight', 'backbone.bottom_up.stages.2.blocks.4.attn.norm.bias', 'backbone.bottom_up.stages.2.blocks.4.norm2.weight', 'backbone.bottom_up.stages.2.blocks.4.norm2.bias', 'backbone.bottom_up.stages.2.blocks.4.mlp.fc1.weight', 'backbone.bottom_up.stages.2.blocks.4.mlp.fc1.bias', 'backbone.bottom_up.stages.2.blocks.4.mlp.dwconv.weight', 'backbone.bottom_up.stages.2.blocks.4.mlp.dwconv.bias', 'backbone.bottom_up.stages.2.blocks.4.mlp.fc2.weight', 'backbone.bottom_up.stages.2.blocks.4.mlp.fc2.bias', 'backbone.bottom_up.stages.2.blocks.5.norm1.weight', 'backbone.bottom_up.stages.2.blocks.5.norm1.bias', 'backbone.bottom_up.stages.2.blocks.5.attn.q.weight', 'backbone.bottom_up.stages.2.blocks.5.attn.q.bias', 'backbone.bottom_up.stages.2.blocks.5.attn.kv.weight', 'backbone.bottom_up.stages.2.blocks.5.attn.kv.bias', 'backbone.bottom_up.stages.2.blocks.5.attn.proj.weight', 'backbone.bottom_up.stages.2.blocks.5.attn.proj.bias', 'backbone.bottom_up.stages.2.blocks.5.attn.sr.weight', 'backbone.bottom_up.stages.2.blocks.5.attn.sr.bias', 'backbone.bottom_up.stages.2.blocks.5.attn.norm.weight', 'backbone.bottom_up.stages.2.blocks.5.attn.norm.bias', 'backbone.bottom_up.stages.2.blocks.5.norm2.weight', 'backbone.bottom_up.stages.2.blocks.5.norm2.bias', 'backbone.bottom_up.stages.2.blocks.5.mlp.fc1.weight', 'backbone.bottom_up.stages.2.blocks.5.mlp.fc1.bias', 'backbone.bottom_up.stages.2.blocks.5.mlp.dwconv.weight', 'backbone.bottom_up.stages.2.blocks.5.mlp.dwconv.bias', 'backbone.bottom_up.stages.2.blocks.5.mlp.fc2.weight', 'backbone.bottom_up.stages.2.blocks.5.mlp.fc2.bias', 'backbone.bottom_up.stages.2.norm.weight', 'backbone.bottom_up.stages.2.norm.bias', 'roi_heads.box_head.stage.downsample.proj.weight', 'roi_heads.box_head.stage.downsample.proj.bias', 'roi_heads.box_head.stage.downsample.norm.weight', 'roi_heads.box_head.stage.downsample.norm.bias', 'roi_heads.box_head.stage.blocks.0.norm1.weight', 'roi_heads.box_head.stage.blocks.0.norm1.bias', 'roi_heads.box_head.stage.blocks.0.attn.q.weight', 'roi_heads.box_head.stage.blocks.0.attn.q.bias', 'roi_heads.box_head.stage.blocks.0.attn.kv.weight', 'roi_heads.box_head.stage.blocks.0.attn.kv.bias', 'roi_heads.box_head.stage.blocks.0.attn.proj.weight', 'roi_heads.box_head.stage.blocks.0.attn.proj.bias', 'roi_heads.box_head.stage.blocks.0.attn.sr.weight', 'roi_heads.box_head.stage.blocks.0.attn.sr.bias', 'roi_heads.box_head.stage.blocks.0.attn.norm.weight', 'roi_heads.box_head.stage.blocks.0.attn.norm.bias', 'roi_heads.box_head.stage.blocks.0.norm2.weight', 'roi_heads.box_head.stage.blocks.0.norm2.bias', 'roi_heads.box_head.stage.blocks.0.mlp.fc1.weight', 'roi_heads.box_head.stage.blocks.0.mlp.fc1.bias', 'roi_heads.box_head.stage.blocks.0.mlp.dwconv.weight', 'roi_heads.box_head.stage.blocks.0.mlp.dwconv.bias', 'roi_heads.box_head.stage.blocks.0.mlp.fc2.weight', 'roi_heads.box_head.stage.blocks.0.mlp.fc2.bias', 'roi_heads.box_head.stage.blocks.1.norm1.weight', 'roi_heads.box_head.stage.blocks.1.norm1.bias', 'roi_heads.box_head.stage.blocks.1.attn.q.weight', 'roi_heads.box_head.stage.blocks.1.attn.q.bias', 'roi_heads.box_head.stage.blocks.1.attn.kv.weight', 'roi_heads.box_head.stage.blocks.1.attn.kv.bias', 'roi_heads.box_head.stage.blocks.1.attn.proj.weight', 'roi_heads.box_head.stage.blocks.1.attn.proj.bias', 'roi_heads.box_head.stage.blocks.1.attn.sr.weight', 'roi_heads.box_head.stage.blocks.1.attn.sr.bias', 'roi_heads.box_head.stage.blocks.1.attn.norm.weight', 'roi_heads.box_head.stage.blocks.1.attn.norm.bias', 'roi_heads.box_head.stage.blocks.1.norm2.weight', 'roi_heads.box_head.stage.blocks.1.norm2.bias', 'roi_heads.box_head.stage.blocks.1.mlp.fc1.weight', 'roi_heads.box_head.stage.blocks.1.mlp.fc1.bias', 'roi_heads.box_head.stage.blocks.1.mlp.dwconv.weight', 'roi_heads.box_head.stage.blocks.1.mlp.dwconv.bias', 'roi_heads.box_head.stage.blocks.1.mlp.fc2.weight', 'roi_heads.box_head.stage.blocks.1.mlp.fc2.bias', 'roi_heads.box_head.stage.blocks.2.norm1.weight', 'roi_heads.box_head.stage.blocks.2.norm1.bias', 'roi_heads.box_head.stage.blocks.2.attn.q.weight', 'roi_heads.box_head.stage.blocks.2.attn.q.bias', 'roi_heads.box_head.stage.blocks.2.attn.kv.weight', 'roi_heads.box_head.stage.blocks.2.attn.kv.bias', 'roi_heads.box_head.stage.blocks.2.attn.proj.weight', 'roi_heads.box_head.stage.blocks.2.attn.proj.bias', 'roi_heads.box_head.stage.blocks.2.attn.sr.weight', 'roi_heads.box_head.stage.blocks.2.attn.sr.bias', 'roi_heads.box_head.stage.blocks.2.attn.norm.weight', 'roi_heads.box_head.stage.blocks.2.attn.norm.bias', 'roi_heads.box_head.stage.blocks.2.norm2.weight', 'roi_heads.box_head.stage.blocks.2.norm2.bias', 'roi_heads.box_head.stage.blocks.2.mlp.fc1.weight', 'roi_heads.box_head.stage.blocks.2.mlp.fc1.bias', 'roi_heads.box_head.stage.blocks.2.mlp.dwconv.weight', 'roi_heads.box_head.stage.blocks.2.mlp.dwconv.bias', 'roi_heads.box_head.stage.blocks.2.mlp.fc2.weight', 'roi_heads.box_head.stage.blocks.2.mlp.fc2.bias', 'roi_heads.box_head.stage.norm.weight', 'roi_heads.box_head.stage.norm.bias', 'backbone.bottom_up.head.weight', 'backbone.bottom_up.head.bias'])"
      ]
     },
     "execution_count": 3,
     "metadata": {},
     "output_type": "execute_result"
    }
   ],
   "source": [
    "# Modify state dict keys\n",
    "state_dict = model_timm.state_dict()\n",
    "new_model_dict = {}\n",
    "\n",
    "for key, value in state_dict.items():\n",
    "    if 'stages.3' in key:\n",
    "        new_key = key.replace('stages.3', 'roi_heads.box_head.stage')\n",
    "    else:\n",
    "        new_key = f\"backbone.bottom_up.{key}\"\n",
    "    new_model_dict[new_key] = value\n",
    "new_model_dict.keys()"
   ]
  },
  {
   "cell_type": "code",
   "execution_count": 4,
   "metadata": {},
   "outputs": [],
   "source": [
    "# Save the modified weights\n",
    "torch.save(new_model_dict, f\"weights/{model_name}_fpn.pth\")"
   ]
  },
  {
   "cell_type": "code",
   "execution_count": null,
   "metadata": {},
   "outputs": [],
   "source": []
  }
 ],
 "metadata": {
  "kernelspec": {
   "display_name": "fct",
   "language": "python",
   "name": "python3"
  },
  "language_info": {
   "codemirror_mode": {
    "name": "ipython",
    "version": 3
   },
   "file_extension": ".py",
   "mimetype": "text/x-python",
   "name": "python",
   "nbconvert_exporter": "python",
   "pygments_lexer": "ipython3",
   "version": "3.11.9"
  }
 },
 "nbformat": 4,
 "nbformat_minor": 2
}

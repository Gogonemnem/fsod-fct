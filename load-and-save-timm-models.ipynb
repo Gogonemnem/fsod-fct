{
 "cells": [
  {
   "cell_type": "code",
   "execution_count": 6,
   "metadata": {},
   "outputs": [],
   "source": [
    "import timm, torch\n",
    "\n",
    "model_name = \"pvt_v2_b2_li\"\n",
    "# model_name =\"pvt_v2_b1.pth\"\n",
    "# model_name =\"pvt_v2_b0.pth\"\n",
    "# model_name =\"pvt_v2_b2.pth\"\n",
    "# model_name =\"pvt_v2_b3.pth\"\n",
    "\n",
    "model_timm = timm.create_model(model_name, pretrained=True)\n",
    "state_dict = model_timm.state_dict()\n",
    "\n",
    "for fpn in [True, False]:\n",
    "    for c4 in [True, False]:\n",
    "        file_name = f\"{model_name}\" if not fpn else f\"{model_name}_fpn\"\n",
    "        file_name = f\"{file_name}\" if not c4 else f\"{file_name}_c4\"\n",
    "\n",
    "        new_model_dict = {}\n",
    "        for key, value in state_dict.items():\n",
    "            if 'stages.3' in key and c4:\n",
    "                new_key = key.replace('stages.3', 'roi_heads.box_head.stage')\n",
    "            else:\n",
    "                if fpn:\n",
    "                    new_key = f\"backbone.bottom_up.{key}\"\n",
    "                else:\n",
    "                    new_key= f\"backbone.{key}\"\n",
    "            new_model_dict[new_key] = value\n",
    "        torch.save(new_model_dict, f\"weights/{file_name}.pth\")\n"
   ]
  },
  {
   "cell_type": "code",
   "execution_count": 21,
   "metadata": {},
   "outputs": [],
   "source": [
    "import timm, torch\n",
    "\n",
    "model_name = \"twins_svt_small\"\n",
    "model = timm.create_model(model_name, pretrained=True)\n",
    "state_dict = model.state_dict()\n",
    "\n",
    "# Define the prefixes to be prepended\n",
    "prefix_map = {\n",
    "    \"blocks.3\",\n",
    "    \"pos_block.3\",\n",
    "    \"patch_embeds.3\",\n",
    "}\n",
    "\n",
    "for fpn in [True, False]:\n",
    "    for c4 in [True, False]:\n",
    "        file_name = f\"{model_name}\" if not fpn else f\"{model_name}_fpn\"\n",
    "        file_name = f\"{file_name}\" if not c4 else f\"{file_name}_c4\"\n",
    "\n",
    "        new_model_dict = {}\n",
    "        for key, value in state_dict.items():\n",
    "            prefix = \"backbone\"\n",
    "\n",
    "            if fpn:\n",
    "                prefix = f\"{prefix}.bottom_up\"\n",
    "\n",
    "            if c4:\n",
    "                for stage in prefix_map:\n",
    "                    if stage in key or key.startswith(\"norm\"):\n",
    "                        prefix = \"roi_heads.box_head\"\n",
    "\n",
    "            new_key = f\"{prefix}.{key}\"\n",
    "            new_model_dict[new_key] = value\n",
    "        torch.save(new_model_dict, f\"weights/{file_name}.pth\")"
   ]
  },
  {
   "cell_type": "code",
   "execution_count": null,
   "metadata": {},
   "outputs": [],
   "source": []
  }
 ],
 "metadata": {
  "kernelspec": {
   "display_name": "fct",
   "language": "python",
   "name": "python3"
  },
  "language_info": {
   "codemirror_mode": {
    "name": "ipython",
    "version": 3
   },
   "file_extension": ".py",
   "mimetype": "text/x-python",
   "name": "python",
   "nbconvert_exporter": "python",
   "pygments_lexer": "ipython3",
   "version": "3.11.9"
  }
 },
 "nbformat": 4,
 "nbformat_minor": 2
}
